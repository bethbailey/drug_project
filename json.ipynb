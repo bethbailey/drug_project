{
 "cells": [
  {
   "cell_type": "code",
   "execution_count": 3,
   "metadata": {},
   "outputs": [],
   "source": [
    "import json\n",
    "from pprint import pprint"
   ]
  },
  {
   "cell_type": "code",
   "execution_count": null,
   "metadata": {},
   "outputs": [],
   "source": [
    "json_data = json.load(open(\"hetionet-v1.0.json\"))"
   ]
  },
  {
   "cell_type": "code",
   "execution_count": null,
   "metadata": {},
   "outputs": [],
   "source": [
    "json_data"
   ]
  },
  {
   "cell_type": "code",
   "execution_count": null,
   "metadata": {},
   "outputs": [],
   "source": [
    "json_data.keys()"
   ]
  },
  {
   "cell_type": "code",
   "execution_count": 20,
   "metadata": {},
   "outputs": [
    {
     "name": "stdout",
     "output_type": "stream",
     "text": [
      "Metanode kinds: \n"
     ]
    },
    {
     "data": {
      "text/plain": [
       "['Anatomy',\n",
       " 'Biological Process',\n",
       " 'Cellular Component',\n",
       " 'Compound',\n",
       " 'Disease',\n",
       " 'Gene',\n",
       " 'Molecular Function',\n",
       " 'Pathway',\n",
       " 'Pharmacologic Class',\n",
       " 'Side Effect',\n",
       " 'Symptom']"
      ]
     },
     "execution_count": 20,
     "metadata": {},
     "output_type": "execute_result"
    }
   ],
   "source": [
    "print(\"Metanode kinds: \")\n",
    "json_data['metanode_kinds']"
   ]
  },
  {
   "cell_type": "code",
   "execution_count": 26,
   "metadata": {},
   "outputs": [
    {
     "name": "stdout",
     "output_type": "stream",
     "text": [
      "Metaedge tuples:\n"
     ]
    },
    {
     "data": {
      "text/plain": [
       "['Anatomy', 'Gene', 'downregulates', 'both']"
      ]
     },
     "execution_count": 26,
     "metadata": {},
     "output_type": "execute_result"
    }
   ],
   "source": [
    "print(\"Metaedge tuples:\")\n",
    "json_data['metaedge_tuples'][0]"
   ]
  },
  {
   "cell_type": "code",
   "execution_count": 25,
   "metadata": {},
   "outputs": [
    {
     "name": "stdout",
     "output_type": "stream",
     "text": [
      "Abbreviations:\n"
     ]
    },
    {
     "data": {
      "text/plain": [
       "{'Anatomy': 'A',\n",
       " 'Biological Process': 'BP',\n",
       " 'Cellular Component': 'CC',\n",
       " 'Compound': 'C',\n",
       " 'Disease': 'D',\n",
       " 'Gene': 'G',\n",
       " 'Molecular Function': 'MF',\n",
       " 'Pathway': 'PW',\n",
       " 'Pharmacologic Class': 'PC',\n",
       " 'Side Effect': 'SE',\n",
       " 'Symptom': 'S',\n",
       " 'associates': 'a',\n",
       " 'binds': 'b',\n",
       " 'causes': 'c',\n",
       " 'covaries': 'c',\n",
       " 'downregulates': 'd',\n",
       " 'expresses': 'e',\n",
       " 'includes': 'i',\n",
       " 'interacts': 'i',\n",
       " 'localizes': 'l',\n",
       " 'palliates': 'p',\n",
       " 'participates': 'p',\n",
       " 'presents': 'p',\n",
       " 'regulates': 'r',\n",
       " 'resembles': 'r',\n",
       " 'treats': 't',\n",
       " 'upregulates': 'u'}"
      ]
     },
     "execution_count": 25,
     "metadata": {},
     "output_type": "execute_result"
    }
   ],
   "source": [
    "print(\"Abbreviations:\")\n",
    "json_data['kind_to_abbrev']"
   ]
  },
  {
   "cell_type": "code",
   "execution_count": 34,
   "metadata": {},
   "outputs": [
    {
     "name": "stdout",
     "output_type": "stream",
     "text": [
      "Node example:  {'kind': 'Molecular Function', 'identifier': 'GO:0031753', 'name': 'endothelial differentiation G-protein coupled receptor binding', 'data': {'source': 'Gene Ontology', 'license': 'CC BY 4.0', 'url': 'http://purl.obolibrary.org/obo/GO_0031753'}}\n",
      "Edge example:  {'source_id': ['Anatomy', 'UBERON:0000178'], 'target_id': ['Gene', 9489], 'kind': 'upregulates', 'direction': 'both', 'data': {'source': 'Bgee', 'unbiased': True}}\n",
      "Find node from edge to make sure it is unique: \n",
      "[{'kind': 'Anatomy', 'identifier': 'UBERON:0000178', 'name': 'blood', 'data': {'source': 'Uberon', 'bto_id': 'BTO:0000089', 'license': 'CC BY 3.0', 'url': 'http://purl.obolibrary.org/obo/UBERON_0000178', 'mesh_id': 'D001769'}}]\n",
      "There are 11 metanode_kinds in data.\n",
      "There are 24 metaedge_tuples in data.\n",
      "There are 27 kind_to_abbrev in data.\n",
      "There are 47031 nodes in data.\n",
      "There are 2250197 edges in data.\n"
     ]
    }
   ],
   "source": [
    "print (\"Node example: \", json_data['nodes'][0])\n",
    "print (\"Edge example: \", json_data['edges'][0])\n",
    "print (\"Find node from edge to make sure it is unique: \")\n",
    "edge_ex = json_data['edges'][0]\n",
    "to_find = edge_ex['source_id'][1]\n",
    "node_id=[]\n",
    "for node in json_data['nodes']:\n",
    "    if node['identifier']==to_find:\n",
    "        node_id.append(node)\n",
    "print (node_id)\n",
    "\n",
    "for key,items in json_data.items():\n",
    "    print (f'There are {len(items)} {key}.')"
   ]
  },
  {
   "cell_type": "markdown",
   "metadata": {},
   "source": [
    "# Questions to ask \n",
    "\n",
    "* What are the important aspects of the model\n",
    "* How should the format of input be for the model?"
   ]
  }
 ],
 "metadata": {
  "kernelspec": {
   "display_name": "Python 3",
   "language": "python",
   "name": "python3"
  },
  "language_info": {
   "codemirror_mode": {
    "name": "ipython",
    "version": 3
   },
   "file_extension": ".py",
   "mimetype": "text/x-python",
   "name": "python",
   "nbconvert_exporter": "python",
   "pygments_lexer": "ipython3",
   "version": "3.6.3"
  }
 },
 "nbformat": 4,
 "nbformat_minor": 2
}
